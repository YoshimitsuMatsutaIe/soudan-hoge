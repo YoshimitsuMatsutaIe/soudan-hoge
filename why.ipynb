{
 "cells": [
  {
   "cell_type": "code",
   "execution_count": 9,
   "metadata": {},
   "outputs": [
    {
     "data": {
      "text/latex": [
       "$\\displaystyle \\left[\\begin{matrix}- \\frac{G i k_{a 2}}{G + k_{b 2}} - G i p_{1} - \\frac{G k_{a 3}}{G + k_{b 3}} + H + \\frac{E p_{5} p_{6} + F_{G}}{V_{G}}\\\\- Ii p_{2} + Ip p_{3}\\\\\\frac{FI}{V_{I}} - Ip p_{3} - Ip p_{4} + \\alpha \\left(I_{B} + \\max\\left(0, Is\\right)\\right)\\\\- Is n + \\beta \\gamma \\left(G - h\\right)\\\\- E p_{5} + F_{E}\\\\\\frac{Ii S k_{a 1}}{Ii + k_{b 1}}\\end{matrix}\\right]$"
      ],
      "text/plain": [
       "Matrix([\n",
       "[-G*i*k_a_2/(G + k_b_2) - G*i*p1 - G*k_a_3/(G + k_b_3) + H + (E*p5*p6 + F_G)/V_G],\n",
       "[                                                                 -Ii*p2 + Ip*p3],\n",
       "[                              FI/V_I - Ip*p3 - Ip*p4 + alpha*(I_B + Max(0, Is))],\n",
       "[                                                     -Is*n + beta*gamma*(G - h)],\n",
       "[                                                                    -E*p5 + F_E],\n",
       "[                                                        Ii*S*k_a_1/(Ii + k_b_1)]])"
      ]
     },
     "execution_count": 9,
     "metadata": {},
     "output_type": "execute_result"
    }
   ],
   "source": [
    "import numpy as np\n",
    "import sympy as sy\n",
    "\n",
    "alpha, beta, gamma = sy.symbols('alpha, beta, gamma')\n",
    "p1, p2, p3, p4, p5, p6 = sy.symbols('p1, p2, p3, p4, p5, p6')\n",
    "k_a_1, k_a_2, k_a_3, k_b_1, k_b_2, k_b_3 = sy.symbols('k_a_1, k_a_2, k_a_3, k_b_1, k_b_2, k_b_3')\n",
    "n, F_G, F_E, V_G, V_I, I_B, H, h = sy.symbols('n, F_G, F_E, V_G, V_I, I_B, H, h')\n",
    "\n",
    "G, Ii, Ip, Is, E, i = sy.symbols('G, Ii, Ip, Is, E, i')\n",
    "FI = sy.Symbol('FI')\n",
    "S = sy.Symbol('S')\n",
    "\n",
    "dG = -i * k_a_2*G / (k_b_2 + G) \\\n",
    "    - (p1*i*G - H) \\\n",
    "        - (k_a_3*G / (k_b_3 + G)) \\\n",
    "            + (F_G + p5*p6*E)/V_G\n",
    "dIi = p3*Ip - p2*Ii\n",
    "dIp = alpha*(sy.Max(0, Is) + I_B) \\\n",
    "    - p3*Ip - p4*Ip + FI/V_I\n",
    "dIs = beta*gamma*(G - h) - n*Is\n",
    "dE = F_E - p5*E\n",
    "di = S * (k_a_1*Ii / (k_b_1+Ii))\n",
    "\n",
    "X = sy.Matrix([[G, Ii, Ip, Is, E, i]]).T\n",
    "X_dot = sy.Matrix([[dG, dIi, dIp, dIs, dE, di]]).T\n",
    "X_dot\n"
   ]
  },
  {
   "cell_type": "code",
   "execution_count": 10,
   "metadata": {},
   "outputs": [
    {
     "data": {
      "text/latex": [
       "$\\displaystyle \\left[\\begin{matrix}\\frac{G i k_{a 2}}{\\left(G + k_{b 2}\\right)^{2}} + \\frac{G k_{a 3}}{\\left(G + k_{b 3}\\right)^{2}} - \\frac{i k_{a 2}}{G + k_{b 2}} - i p_{1} - \\frac{k_{a 3}}{G + k_{b 3}} & 0 & 0 & 0 & \\frac{p_{5} p_{6}}{V_{G}} & - \\frac{G k_{a 2}}{G + k_{b 2}} - G p_{1}\\\\0 & - p_{2} & p_{3} & 0 & 0 & 0\\\\0 & 0 & - p_{3} - p_{4} & \\alpha \\theta\\left(Is\\right) & 0 & 0\\\\\\beta \\gamma & 0 & 0 & - n & 0 & 0\\\\0 & 0 & 0 & 0 & - p_{5} & 0\\\\0 & - \\frac{Ii S k_{a 1}}{\\left(Ii + k_{b 1}\\right)^{2}} + \\frac{S k_{a 1}}{Ii + k_{b 1}} & 0 & 0 & 0 & 0\\end{matrix}\\right]$"
      ],
      "text/plain": [
       "Matrix([\n",
       "[G*i*k_a_2/(G + k_b_2)**2 + G*k_a_3/(G + k_b_3)**2 - i*k_a_2/(G + k_b_2) - i*p1 - k_a_3/(G + k_b_3),                                                  0,        0,                   0, p5*p6/V_G, -G*k_a_2/(G + k_b_2) - G*p1],\n",
       "[                                                                                                 0,                                                -p2,       p3,                   0,         0,                           0],\n",
       "[                                                                                                 0,                                                  0, -p3 - p4, alpha*Heaviside(Is),         0,                           0],\n",
       "[                                                                                        beta*gamma,                                                  0,        0,                  -n,         0,                           0],\n",
       "[                                                                                                 0,                                                  0,        0,                   0,       -p5,                           0],\n",
       "[                                                                                                 0, -Ii*S*k_a_1/(Ii + k_b_1)**2 + S*k_a_1/(Ii + k_b_1),        0,                   0,         0,                           0]])"
      ]
     },
     "execution_count": 10,
     "metadata": {},
     "output_type": "execute_result"
    }
   ],
   "source": [
    "Jacobian = X_dot.jacobian(X)\n",
    "Jacobian"
   ]
  },
  {
   "cell_type": "code",
   "execution_count": 13,
   "metadata": {},
   "outputs": [
    {
     "data": {
      "text/latex": [
       "$\\displaystyle \\left[\\begin{matrix}\\frac{4.19657856992428 \\cdot 10^{-5} G i}{\\left(0.0105843402569031 G + 1\\right)^{2}} + \\frac{0.00477854313444698 G}{\\left(0.124256017097628 G + 1\\right)^{2}} - 0.1503 i - \\frac{0.3746 i}{G + 94.4792} - \\frac{0.3095}{G + 8.0479} & 0 & 0 & 0 & 0.0873668510638298 & - 0.1503 G - \\frac{0.3746 G}{G + 94.4792}\\\\0 & -0.156 & 0.1643 & 0 & 0 & 0\\\\0 & 0 & -0.2855 & 0.5417 \\theta\\left(Is\\right) & 0 & 0\\\\0.1457 & 0 & 0 & -5.9027 & 0 & 0\\\\0 & 0 & 0 & 0 & -0.5719 & 0\\\\0 & - \\frac{1.02529465316869 \\cdot 10^{-5} Ii}{\\left(0.00584606606522339 Ii + 1\\right)^{2}} + \\frac{0.3}{Ii + 171.0552} & 0 & 0 & 0 & 0\\end{matrix}\\right]$"
      ],
      "text/plain": [
       "Matrix([\n",
       "[4.19657856992428e-5*G*i/(0.0105843402569031*G + 1)**2 + 0.00477854313444698*G/(0.124256017097628*G + 1)**2 - 0.1503*i - 0.3746*i/(G + 94.4792) - 0.3095/(G + 8.0479),                                                                             0,       0,                    0, 0.0873668510638298, -0.1503*G - 0.3746*G/(G + 94.4792)],\n",
       "[                                                                                                                                                                   0,                                                                        -0.156,  0.1643,                    0,                  0,                                  0],\n",
       "[                                                                                                                                                                   0,                                                                             0, -0.2855, 0.5417*Heaviside(Is),                  0,                                  0],\n",
       "[                                                                                                                                                              0.1457,                                                                             0,       0,              -5.9027,                  0,                                  0],\n",
       "[                                                                                                                                                                   0,                                                                             0,       0,                    0,            -0.5719,                                  0],\n",
       "[                                                                                                                                                                   0, -1.02529465316869e-5*Ii/(0.00584606606522339*Ii + 1)**2 + 0.3/(Ii + 171.0552),       0,                    0,                  0,                                  0]])"
      ]
     },
     "execution_count": 13,
     "metadata": {},
     "output_type": "execute_result"
    }
   ],
   "source": [
    "weight = 60\n",
    "params = [\n",
    "    (alpha, 0.5417),\n",
    "    (beta, 1.0),\n",
    "    (gamma, 0.1457),\n",
    "    (p1, 0.1503),\n",
    "    (p2, 0.1560),\n",
    "    (p3, 0.1643),\n",
    "    (p4, 0.1212),\n",
    "    (p5, 0.5719),\n",
    "    (p6, 0.2872),\n",
    "    (k_a_1, 1.0),\n",
    "    (k_a_2, 0.3746),\n",
    "    (k_a_3, 0.3095),\n",
    "    (k_b_1, 171.0552),\n",
    "    (k_b_2, 94.4792),\n",
    "    (k_b_3, 8.0479),\n",
    "    (n, 5.9027), # 腎に関係するインスリン係数\n",
    "    (F_G, 2.86*weight), # 注射器によるグルコース投入(1kg当たり2.86の投入)\n",
    "    (F_E, 2.86*weight), # 経腸グルコース投入率(1kg当たり2.86の投入)\n",
    "    (V_G, 1.88), # グルコース分布容量\n",
    "    (V_I, 120.0),  # インスリン分布容量\n",
    "    (I_B, 13.3909), # 基礎インスリン率\n",
    "    (H, 0.7686), # 閾値1\n",
    "    (h, 107.4),  # 閾値2\n",
    "    (V_I, 100),\n",
    "    (S, 0.3),\n",
    "]\n",
    "\n",
    "\n",
    "\n",
    "Jacobian.subs(params)"
   ]
  }
 ],
 "metadata": {
  "kernelspec": {
   "display_name": "Python 3.9.12 ('base')",
   "language": "python",
   "name": "python3"
  },
  "language_info": {
   "codemirror_mode": {
    "name": "ipython",
    "version": 3
   },
   "file_extension": ".py",
   "mimetype": "text/x-python",
   "name": "python",
   "nbconvert_exporter": "python",
   "pygments_lexer": "ipython3",
   "version": "3.9.12"
  },
  "orig_nbformat": 4,
  "vscode": {
   "interpreter": {
    "hash": "368756e83d2084993ac505becbe47825c8a72b0fc53c20a5043bb5b908d065dc"
   }
  }
 },
 "nbformat": 4,
 "nbformat_minor": 2
}
