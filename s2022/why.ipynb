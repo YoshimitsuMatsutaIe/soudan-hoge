{
 "cells": [
  {
   "cell_type": "markdown",
   "metadata": {},
   "source": [
    "微分方程式を定義"
   ]
  },
  {
   "cell_type": "code",
   "execution_count": 1,
   "metadata": {},
   "outputs": [
    {
     "data": {
      "text/latex": [
       "$\\displaystyle \\left[\\begin{matrix}- \\frac{G i k_{a 2}}{G + k_{b 2}} - G i p_{1} - \\frac{G k_{a 3}}{G + k_{b 3}} + H + \\frac{E p_{5} p_{6} + F_{G}}{V_{G}}\\\\- Ii p_{2} + Ip p_{3}\\\\\\frac{FI}{V_{I}} - Ip p_{3} - Ip p_{4} + \\alpha \\left(I_{B} + \\max\\left(0, Is\\right)\\right)\\\\- Is n + \\beta \\gamma \\left(G - h\\right)\\\\- E p_{5} + F_{E}\\\\\\frac{Ii S k_{a 1}}{Ii + k_{b 1}}\\end{matrix}\\right]$"
      ],
      "text/plain": [
       "Matrix([\n",
       "[-G*i*k_a_2/(G + k_b_2) - G*i*p1 - G*k_a_3/(G + k_b_3) + H + (E*p5*p6 + F_G)/V_G],\n",
       "[                                                                 -Ii*p2 + Ip*p3],\n",
       "[                              FI/V_I - Ip*p3 - Ip*p4 + alpha*(I_B + Max(0, Is))],\n",
       "[                                                     -Is*n + beta*gamma*(G - h)],\n",
       "[                                                                    -E*p5 + F_E],\n",
       "[                                                        Ii*S*k_a_1/(Ii + k_b_1)]])"
      ]
     },
     "execution_count": 1,
     "metadata": {},
     "output_type": "execute_result"
    }
   ],
   "source": [
    "import sympy as sy\n",
    "\n",
    "alpha, beta, gamma = sy.symbols('alpha, beta, gamma')\n",
    "p1, p2, p3, p4, p5, p6 = sy.symbols('p1, p2, p3, p4, p5, p6')\n",
    "k_a_1, k_a_2, k_a_3, k_b_1, k_b_2, k_b_3 = sy.symbols('k_a_1, k_a_2, k_a_3, k_b_1, k_b_2, k_b_3')\n",
    "n, F_G, F_E, V_G, V_I, I_B, H, h = sy.symbols('n, F_G, F_E, V_G, V_I, I_B, H, h')\n",
    "\n",
    "G, Ii, Ip, Is, E, i = sy.symbols('G, Ii, Ip, Is, E, i')\n",
    "FI = sy.Symbol('FI')\n",
    "S = sy.Symbol('S')\n",
    "\n",
    "dG = -i * k_a_2*G / (k_b_2 + G) \\\n",
    "    - (p1*i*G - H) \\\n",
    "        - (k_a_3*G / (k_b_3 + G)) \\\n",
    "            + (F_G + p5*p6*E)/V_G\n",
    "dIi = p3*Ip - p2*Ii\n",
    "dIp = alpha*(sy.Max(0, Is) + I_B) \\\n",
    "    - p3*Ip - p4*Ip + FI/V_I\n",
    "dIs = beta*gamma*(G - h) - n*Is\n",
    "dE = F_E - p5*E\n",
    "di = S * (k_a_1*Ii / (k_b_1+Ii))\n",
    "\n",
    "X = sy.Matrix([G, Ii, Ip, Is, E, i])\n",
    "X_dot = sy.Matrix([dG, dIi, dIp, dIs, dE, di])\n",
    "X_dot\n"
   ]
  },
  {
   "cell_type": "code",
   "execution_count": 2,
   "metadata": {},
   "outputs": [
    {
     "data": {
      "text/latex": [
       "$\\displaystyle \\left[\\begin{matrix}\\frac{G i k_{a 2}}{\\left(G + k_{b 2}\\right)^{2}} + \\frac{G k_{a 3}}{\\left(G + k_{b 3}\\right)^{2}} - \\frac{i k_{a 2}}{G + k_{b 2}} - i p_{1} - \\frac{k_{a 3}}{G + k_{b 3}} & 0 & 0 & 0 & \\frac{p_{5} p_{6}}{V_{G}} & - \\frac{G k_{a 2}}{G + k_{b 2}} - G p_{1}\\\\0 & - p_{2} & p_{3} & 0 & 0 & 0\\\\0 & 0 & - p_{3} - p_{4} & \\alpha \\theta\\left(Is\\right) & 0 & 0\\\\\\beta \\gamma & 0 & 0 & - n & 0 & 0\\\\0 & 0 & 0 & 0 & - p_{5} & 0\\\\0 & - \\frac{Ii S k_{a 1}}{\\left(Ii + k_{b 1}\\right)^{2}} + \\frac{S k_{a 1}}{Ii + k_{b 1}} & 0 & 0 & 0 & 0\\end{matrix}\\right]$"
      ],
      "text/plain": [
       "Matrix([\n",
       "[G*i*k_a_2/(G + k_b_2)**2 + G*k_a_3/(G + k_b_3)**2 - i*k_a_2/(G + k_b_2) - i*p1 - k_a_3/(G + k_b_3),                                                  0,        0,                   0, p5*p6/V_G, -G*k_a_2/(G + k_b_2) - G*p1],\n",
       "[                                                                                                 0,                                                -p2,       p3,                   0,         0,                           0],\n",
       "[                                                                                                 0,                                                  0, -p3 - p4, alpha*Heaviside(Is),         0,                           0],\n",
       "[                                                                                        beta*gamma,                                                  0,        0,                  -n,         0,                           0],\n",
       "[                                                                                                 0,                                                  0,        0,                   0,       -p5,                           0],\n",
       "[                                                                                                 0, -Ii*S*k_a_1/(Ii + k_b_1)**2 + S*k_a_1/(Ii + k_b_1),        0,                   0,         0,                           0]])"
      ]
     },
     "execution_count": 2,
     "metadata": {},
     "output_type": "execute_result"
    }
   ],
   "source": [
    "# ヤコビ行列\n",
    "Jacobian = X_dot.jacobian(X)\n",
    "Jacobian"
   ]
  },
  {
   "cell_type": "code",
   "execution_count": 3,
   "metadata": {},
   "outputs": [],
   "source": [
    "weight = 60\n",
    "params = [\n",
    "    (alpha, 0.5417),\n",
    "    (beta, 1.0),\n",
    "    (gamma, 0.1457),\n",
    "    (p1, 0.1503),\n",
    "    (p2, 0.1560),\n",
    "    (p3, 0.1643),\n",
    "    (p4, 0.1212),\n",
    "    (p5, 0.5719),\n",
    "    (p6, 0.2872),\n",
    "    (k_a_1, 1.0),\n",
    "    (k_a_2, 0.3746),\n",
    "    (k_a_3, 0.3095),\n",
    "    (k_b_1, 171.0552),\n",
    "    (k_b_2, 94.4792),\n",
    "    (k_b_3, 8.0479),\n",
    "    (n, 5.9027), # 腎に関係するインスリン係数\n",
    "    (F_G, 2.86*weight), # 注射器によるグルコース投入(1kg当たり2.86の投入)\n",
    "    (F_E, 2.86*weight), # 経腸グルコース投入率(1kg当たり2.86の投入)\n",
    "    (V_G, 1.88), # グルコース分布容量\n",
    "    (V_I, 120.0),  # インスリン分布容量\n",
    "    (I_B, 13.3909), # 基礎インスリン率\n",
    "    (H, 0.7686), # 閾値1\n",
    "    (h, 107.4),  # 閾値2\n",
    "]"
   ]
  },
  {
   "cell_type": "markdown",
   "metadata": {},
   "source": [
    "解く"
   ]
  },
  {
   "cell_type": "code",
   "execution_count": 4,
   "metadata": {},
   "outputs": [
    {
     "data": {
      "image/png": "[encoded data removed]",
      "text/plain": [
       "<Figure size 432x288 with 1 Axes>"
      ]
     },
     "metadata": {
      "needs_background": "light"
     },
     "output_type": "display_data"
    }
   ],
   "source": [
    "from scipy import integrate\n",
    "import numpy as np\n",
    "import matplotlib.pyplot as plt\n",
    "plt.rcParams['savefig.facecolor'] = 'white'\n",
    "\n",
    "\n",
    "_func_X_dot = sy.lambdify((G, Ii, Ip, Is, E, i, S, FI), X_dot.subs(params), \"numpy\")\n",
    "\n",
    "def func_X_dot(t, X, sen, input):\n",
    "    input = np.random.rand(1,1)[0,0]*100\n",
    "    return _func_X_dot(X[0], X[1], X[2], X[3], X[4], X[5], sen, input).ravel()\n",
    "\n",
    "X0 = np.array([100,50,50,40,130,0.8])\n",
    "\n",
    "sol = integrate.solve_ivp(\n",
    "    fun=func_X_dot,\n",
    "    t_span=[0,60],\n",
    "    y0=X0,\n",
    "    args=(0.5, 200)\n",
    ")\n",
    "plt.plot(sol.t, sol.y[0], label=\"blood glucose G\")\n",
    "plt.plot(sol.t, sol.y[1], label=\"interstitial insulin Ii\")\n",
    "plt.plot(sol.t, sol.y[2], label=\"plasma insulin Ip\")\n",
    "plt.plot(sol.t, sol.y[3], label=\"pancreas insulin Is\")\n",
    "plt.plot(sol.t, sol.y[4], label=\"small intestinal glucose E\")\n",
    "plt.plot(sol.t, sol.y[5], label=\"insulin effect i\")\n",
    "plt.grid()\n",
    "plt.legend()\n",
    "plt.show()"
   ]
  }
 ],
 "metadata": {
  "kernelspec": {
   "display_name": "Python 3.9.12 ('base')",
   "language": "python",
   "name": "python3"
  },
  "language_info": {
   "codemirror_mode": {
    "name": "ipython",
    "version": 3
   },
   "file_extension": ".py",
   "mimetype": "text/x-python",
   "name": "python",
   "nbconvert_exporter": "python",
   "pygments_lexer": "ipython3",
   "version": "3.9.12"
  },
  "orig_nbformat": 4,
  "vscode": {
   "interpreter": {
    "hash": "368756e83d2084993ac505becbe47825c8a72b0fc53c20a5043bb5b908d065dc"
   }
  }
 },
 "nbformat": 4,
 "nbformat_minor": 2
}
